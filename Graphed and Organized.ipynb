{
 "cells": [
  {
   "cell_type": "code",
   "execution_count": 1,
   "id": "large-fossil",
   "metadata": {},
   "outputs": [],
   "source": [
    "import pandas as pd\n",
    "from matplotlib import pyplot as plt\n",
    "import seaborn as sns\n",
    "import datetime\n",
    "import time"
   ]
  },
  {
   "cell_type": "code",
   "execution_count": 2,
   "id": "damaged-instrument",
   "metadata": {},
   "outputs": [],
   "source": [
    "#import CSV"
   ]
  },
  {
   "cell_type": "code",
   "execution_count": 3,
   "id": "ahead-radiation",
   "metadata": {},
   "outputs": [
    {
     "name": "stdout",
     "output_type": "stream",
     "text": [
      "                      datetime  safeLow  average  fast  fastest\n",
      "0   2021-06-17 00:27:51.975508     15.3     15.3    16       21\n",
      "1   2021-06-17 17:02:53.047725     17.0     17.0    38       40\n",
      "2   2021-06-17 17:02:54.629253     17.0     17.0    38       40\n",
      "3   2021-06-17 18:02:55.955438     13.0     13.0    28       29\n",
      "4   2021-06-17 19:02:28.719364      1.0      1.0    27       29\n",
      "..                         ...      ...      ...   ...      ...\n",
      "76  2021-06-20 17:03:36.804628      1.0      1.0     9       10\n",
      "77  2021-06-20 18:02:59.836846      5.0      5.0    11       11\n",
      "78  2021-06-20 19:02:26.583970      5.0      5.0     8       10\n",
      "79  2021-06-20 20:02:44.694421     35.0     35.0    55       55\n",
      "80  2021-06-20 21:02:16.072121     10.0     10.0    48       55\n",
      "\n",
      "[81 rows x 5 columns]\n"
     ]
    }
   ],
   "source": [
    "df=pd.read_csv('Pasta.csv')\n",
    "print(df)"
   ]
  },
  {
   "cell_type": "code",
   "execution_count": 4,
   "id": "reduced-lawyer",
   "metadata": {},
   "outputs": [],
   "source": [
    "#convert to strptime"
   ]
  },
  {
   "cell_type": "code",
   "execution_count": 5,
   "id": "thick-tours",
   "metadata": {},
   "outputs": [],
   "source": [
    "def timed(x):\n",
    "    return datetime.datetime.strptime(x, \"%Y-%m-%d %H:%M:%S.%f\")\n",
    "df['datetime']=df.datetime.apply(timed)"
   ]
  },
  {
   "cell_type": "code",
   "execution_count": 6,
   "id": "confirmed-working",
   "metadata": {},
   "outputs": [],
   "source": [
    "#grab hour out of DateTime value"
   ]
  },
  {
   "cell_type": "code",
   "execution_count": 7,
   "id": "cloudy-hungary",
   "metadata": {},
   "outputs": [],
   "source": [
    "def houred(x):\n",
    "    return x.hour\n",
    "df['datetime']=df.datetime.apply(houred)"
   ]
  },
  {
   "cell_type": "code",
   "execution_count": 8,
   "id": "numeric-palmer",
   "metadata": {},
   "outputs": [],
   "source": [
    "#drop unecessary columns, rename necessary columns"
   ]
  },
  {
   "cell_type": "code",
   "execution_count": 9,
   "id": "acute-husband",
   "metadata": {},
   "outputs": [],
   "source": [
    "df=df.drop(columns=['safeLow','fast','fastest'])\n",
    "df.rename(columns={'datetime': 'hour', 'average': 'cost'}, inplace=True)"
   ]
  },
  {
   "cell_type": "code",
   "execution_count": 10,
   "id": "sealed-couple",
   "metadata": {},
   "outputs": [],
   "source": [
    "#plot Bargraph visualizing gas cost at each hour of the day"
   ]
  },
  {
   "cell_type": "code",
   "execution_count": 11,
   "id": "palestinian-gravity",
   "metadata": {},
   "outputs": [
    {
     "data": {
      "image/png": "[encoded data removed]",
      "text/plain": [
       "<Figure size 432x288 with 1 Axes>"
      ]
     },
     "metadata": {
      "needs_background": "light"
     },
     "output_type": "display_data"
    }
   ],
   "source": [
    "sns.barplot(data=df, x='hour', y='cost')\n",
    "plt.show()"
   ]
  },
  {
   "cell_type": "code",
   "execution_count": 12,
   "id": "careful-jefferson",
   "metadata": {},
   "outputs": [],
   "source": [
    "#create more easily readable DataFrame"
   ]
  },
  {
   "cell_type": "code",
   "execution_count": 13,
   "id": "liked-dream",
   "metadata": {},
   "outputs": [
    {
     "name": "stdout",
     "output_type": "stream",
     "text": [
      "     0    1    2    3    4    5    6    7    8    9  ...   14   15   16   17  \\\n",
      "0  9.0  9.0  9.0  9.0  9.0  9.0  9.0  9.0  9.0  9.0  ...  9.0  9.0  9.0  9.0   \n",
      "1  6.0  6.0  6.0  6.0  6.0  6.0  6.0  6.0  6.0  6.0  ...  6.0  6.0  6.0  6.0   \n",
      "2  5.0  5.0  5.0  5.0  5.0  5.0  5.0  5.0  5.0  5.0  ...  5.0  5.0  5.0  5.0   \n",
      "\n",
      "    18   19   20   21   22   23  \n",
      "0  9.0  9.0  9.0  9.0  9.0  9.0  \n",
      "1  6.0  6.0  6.0  6.0  6.0  6.0  \n",
      "2  5.0  5.0  5.0  5.0  5.0  5.0  \n",
      "\n",
      "[3 rows x 24 columns]\n"
     ]
    }
   ],
   "source": [
    "df2=pd.DataFrame()\n",
    "\n",
    "for hour in range(24):\n",
    "    df2[str(hour)]=(df.groupby('hour').get_group(1)['cost'].values).tolist()\n",
    "    df2.reset_index()\n",
    "print(df2)"
   ]
  }
 ],
 "metadata": {
  "kernelspec": {
   "display_name": "Python 3",
   "language": "python",
   "name": "python3"
  },
  "language_info": {
   "codemirror_mode": {
    "name": "ipython",
    "version": 3
   },
   "file_extension": ".py",
   "mimetype": "text/x-python",
   "name": "python",
   "nbconvert_exporter": "python",
   "pygments_lexer": "ipython3",
   "version": "3.9.4"
  }
 },
 "nbformat": 4,
 "nbformat_minor": 5
}
