{
 "cells": [
  {
   "cell_type": "code",
   "execution_count": 1,
   "id": "velvet-piece",
   "metadata": {},
   "outputs": [
    {
     "name": "stdout",
     "output_type": "stream",
     "text": [
      "                     datetime  safeLow  average  fast  fastest\n",
      "0  2021-06-17 00:27:51.975508     15.3     15.3    16       21\n",
      "1  2021-06-17 17:02:53.047725     17.0     17.0    38       40\n",
      "2  2021-06-17 17:02:54.629253     17.0     17.0    38       40\n",
      "3  2021-06-17 18:02:55.955438     13.0     13.0    28       29\n",
      "4  2021-06-17 19:02:28.719364      1.0      1.0    27       29\n"
     ]
    }
   ],
   "source": [
    "#import Necessary Packages\n",
    "import pandas as pd\n",
    "from matplotlib import pyplot as plt\n",
    "import seaborn as sns\n",
    "import datetime\n",
    "import time\n",
    "import numpy as np\n",
    "\n",
    "#import CSV containing Gas Prices at Datetime, (obtained from previous program)\n",
    "df=pd.read_csv('Gas Prices.csv')\n",
    "print(df.head())"
   ]
  },
  {
   "cell_type": "code",
   "execution_count": 2,
   "id": "polar-sequence",
   "metadata": {},
   "outputs": [
    {
     "name": "stdout",
     "output_type": "stream",
     "text": [
      "   hour  cost\n",
      "0     0  15.3\n",
      "1    17  17.0\n",
      "2    17  17.0\n",
      "3    18  13.0\n",
      "4    19   1.0\n"
     ]
    },
    {
     "data": {
      "image/png": "[encoded data removed]",
      "text/plain": [
       "<Figure size 432x288 with 1 Axes>"
      ]
     },
     "metadata": {
      "needs_background": "light"
     },
     "output_type": "display_data"
    }
   ],
   "source": [
    "#trim and modify df to plot gas price/hour\n",
    "\n",
    "#convert datetime column values to strptime\n",
    "def timed(x):\n",
    "    return datetime.datetime.strptime(x, \"%Y-%m-%d %H:%M:%S.%f\")\n",
    "df['datetime']=df.datetime.apply(timed)\n",
    "\n",
    "#grab hour out of DateTime\n",
    "df1=df\n",
    "def houred(x):\n",
    "    return x.hour\n",
    "df1['datetime']=df.datetime.apply(houred)\n",
    "\n",
    "#rename columns\n",
    "df1.rename(columns={'datetime': 'hour', 'average': 'cost'}, inplace=True)\n",
    "\n",
    "#drop unnecessary gas values\n",
    "df1=df1.drop(columns=['safeLow','fast','fastest'])\n",
    "print(df1.head())\n",
    "\n",
    "#barplot DataFrame\n",
    "sns.barplot(data=df1, x='hour', y='cost')\n",
    "plt.ylabel('Cost(gwei)')\n",
    "plt.xlabel('Hour (UTC)')\n",
    "plt.show()"
   ]
  },
  {
   "cell_type": "code",
   "execution_count": 3,
   "id": "saving-documentation",
   "metadata": {},
   "outputs": [
    {
     "name": "stdout",
     "output_type": "stream",
     "text": [
      "      0    1    2     3     4     5    6     7     8     9  ...     14     15  \\\n",
      "0  15.3  9.0  6.0   9.0   6.0   7.0  6.0   6.0   1.0   7.0  ...   14.0   18.0   \n",
      "1   6.0  6.0  6.0   7.0   8.0  10.0  6.0   6.0   6.0   6.0  ...    9.0   10.0   \n",
      "2  10.0  5.0  6.0   5.0   5.0   5.0  5.0   1.0   5.0   5.0  ...   10.0   14.0   \n",
      "3   6.0  5.0  4.0  11.0  11.0  27.0  9.0   1.0  50.0  31.0  ...   34.0   24.0   \n",
      "4   5.0  9.0  6.0  24.0  12.0  11.0  8.0  12.0  14.0   9.0  ...  128.0  158.0   \n",
      "\n",
      "     16    17    18    19    20    21    22    23  \n",
      "0  25.0  17.0  13.0   1.0  18.0  10.0  10.0  0.03  \n",
      "1  21.0  17.0   7.0  24.0  27.0  21.0  10.0  7.00  \n",
      "2   7.0  10.0   9.0   6.0   6.0   8.0   9.0  7.00  \n",
      "3  15.0  10.0   5.0   5.0  35.0  10.0   6.0  5.00  \n",
      "4  49.0   8.0   6.0  21.0  20.0  18.0   6.0  8.00  \n",
      "\n",
      "[5 rows x 24 columns]\n"
     ]
    }
   ],
   "source": [
    "#create Easily readable Hour:Cost DataFrame\n",
    "df2=pd.DataFrame()\n",
    "\n",
    "for hour in range(24):\n",
    "    df2[str(hour)]=pd.Series((df.groupby('hour').get_group(hour)['cost'].values).tolist())\n",
    "    df2.reset_index()\n",
    "print(df2.head())"
   ]
  },
  {
   "cell_type": "code",
   "execution_count": 4,
   "id": "filled-demonstration",
   "metadata": {},
   "outputs": [
    {
     "name": "stdout",
     "output_type": "stream",
     "text": [
      "{'0': 7.0, '1': 8.5, '2': 7.0, '3': 9.0, '4': 8.0, '5': 7.0, '6': 6.0, '7': 6.0, '8': 9.0, '9': 9.0, '10': 9.0, '11': 6.0, '12': 9.0, '13': 10.0, '14': 14.0, '15': 19.0, '16': 19.0, '17': 13.0, '18': 13.0, '19': 16.0, '20': 16.0, '21': 14.0, '22': 10.0, '23': 10.0}\n",
      "{'0': 10.715925925925928, '1': 12.923076923076923, '2': 12.11111111111111, '3': 10.593703703703703, '4': 11.112222222222222, '5': 10.112222222222222, '6': 8.632962962962964, '7': 8.666666666666666, '8': 12.296296296296296, '9': 12.704814814814814, '10': 13.854074074074074, '11': 9.851851851851851, '12': 13.925925925925926, '13': 20.150370370370368, '14': 21.00111111111111, '15': 24.48148148148148, '16': 20.038148148148146, '17': 17.25925925925926, '18': 16.59259259259259, '19': 16.703703703703702, '20': 16.63074074074074, '21': 14.037037037037036, '22': 12.445555555555554, '23': 13.334444444444443}\n"
     ]
    }
   ],
   "source": [
    "#create Mean and Median Dictionaries at Hour H\n",
    "medianDict={}\n",
    "for hour in range(24):\n",
    "    medianDict[str(hour)]=df2[str(hour)].median()\n",
    "meanDict={}\n",
    "for hour in range(24):\n",
    "        meanDict[str(hour)]=df2[str(hour)].mean()\n",
    "print(str(medianDict)+'\\n'+str(meanDict))"
   ]
  },
  {
   "cell_type": "code",
   "execution_count": 5,
   "id": "curious-wrist",
   "metadata": {},
   "outputs": [
    {
     "name": "stdout",
     "output_type": "stream",
     "text": [
      "        0    1    2    3    4    5    6    7    8    9  ...    14    15    16  \\\n",
      "cost  7.0  8.5  7.0  9.0  8.0  7.0  6.0  6.0  9.0  9.0  ...  14.0  19.0  19.0   \n",
      "\n",
      "        17    18    19    20    21    22    23  \n",
      "cost  13.0  13.0  16.0  16.0  14.0  10.0  10.0  \n",
      "\n",
      "[1 rows x 24 columns]\n"
     ]
    },
    {
     "data": {
      "image/png": "[encoded data removed]",
      "text/plain": [
       "<Figure size 432x288 with 1 Axes>"
      ]
     },
     "metadata": {
      "needs_background": "light"
     },
     "output_type": "display_data"
    }
   ],
   "source": [
    "#create DataFrame and Scatterplot Representing Median Gas Prices at Hour H\n",
    "df3=pd.DataFrame(medianDict, index=['cost'])\n",
    "print(df3)\n",
    "df3=df3.T\n",
    "df3['hour']=list(range(24))\n",
    "scatMan=sns.scatterplot(data=df3, x='hour', y='cost')\n",
    "scatMan.set_xticks(range(24))\n",
    "scatMan.set_yticks(range(int(df3.cost.max()+2)))\n",
    "plt.xlabel('Hour (UTC)')\n",
    "plt.ylabel('Median Gas Cost (gwei)')\n",
    "plt.show()"
   ]
  },
  {
   "cell_type": "code",
   "execution_count": 6,
   "id": "local-suspect",
   "metadata": {},
   "outputs": [
    {
     "name": "stdout",
     "output_type": "stream",
     "text": [
      "   cost  day  hour\n",
      "0  15.3   17     0\n",
      "1  17.0   17    17\n",
      "2  17.0   17    17\n",
      "3  13.0   17    18\n",
      "4   1.0   17    19\n"
     ]
    }
   ],
   "source": [
    "#create Dataframe that carries Day-Hour-Cost for analysis on gas price at Hour H / Day\n",
    "\n",
    "#import original(untouched) csv\n",
    "dfD=pd.read_csv('Gas Prices.csv')\n",
    "\n",
    "#recycle \"timed\" function\n",
    "dfD['datetime']=dfD.datetime.apply(timed)\n",
    "\n",
    "\n",
    "#recycle \"houred\" function and create/employ \"dayed\" function\n",
    "def dayed(x):\n",
    "    return x.day\n",
    "dfD['day']=dfD.datetime.apply(dayed)\n",
    "dfD['hour']=dfD.datetime.apply(houred)\n",
    "\n",
    "#rename columns\n",
    "dfD.rename(columns={'average': 'cost'}, inplace=True)\n",
    "\n",
    "#drop unnecessary gas values\n",
    "dfD=dfD.drop(columns=['datetime','safeLow','fast','fastest'])\n",
    "print(dfD.head())"
   ]
  },
  {
   "cell_type": "code",
   "execution_count": 7,
   "id": "apparent-filter",
   "metadata": {},
   "outputs": [
    {
     "name": "stdout",
     "output_type": "stream",
     "text": [
      "What hour would you like to see data on?\n",
      "7\n"
     ]
    },
    {
     "data": {
      "image/png": "[encoded data removed]",
      "text/plain": [
       "<Figure size 432x288 with 1 Axes>"
      ]
     },
     "metadata": {
      "needs_background": "light"
     },
     "output_type": "display_data"
    }
   ],
   "source": [
    "#create Function to plot (gas values by hour) / Day\n",
    "##day is used purely as a natural way to spread out points\n",
    "\n",
    "def tempDF(x):\n",
    "    tdf=dfD.loc[dfD['hour']==x]\n",
    "    plt.clf()\n",
    "    sns.scatterplot(data=tdf, x='day', y='cost')\n",
    "    median=int(medianDict[str(x)])\n",
    "    mean=int(meanDict[str(x)])\n",
    "    plt.axhline(y=mean, color='red', label='Mean')\n",
    "    plt.axhline(y=median, color='blue', label='Median')\n",
    "    plt.legend()\n",
    "    plt.show()\n",
    "x=int(input('What hour would you like to see data on?\\n'))\n",
    "tempDF(x)"
   ]
  },
  {
   "cell_type": "code",
   "execution_count": 12,
   "id": "southern-fossil",
   "metadata": {},
   "outputs": [
    {
     "name": "stdout",
     "output_type": "stream",
     "text": [
      "What hour would you like to compare data from hour 7 to?\n",
      "16\n"
     ]
    },
    {
     "data": {
      "image/png": "[encoded data removed]",
      "text/plain": [
       "<Figure size 432x288 with 1 Axes>"
      ]
     },
     "metadata": {
      "needs_background": "light"
     },
     "output_type": "display_data"
    }
   ],
   "source": [
    "#Function to compare plots of Gas Prices by Hour\n",
    "def compare(x, y):\n",
    "    tdf=dfD.loc[dfD['hour']==x]\n",
    "    plt.clf()\n",
    "    sns.scatterplot(data=tdf, x='day', y='cost')\n",
    "    median=int(medianDict[str(x)])\n",
    "    mean=int(meanDict[str(x)])\n",
    "#     plt.axhline(y=mean, color='red', label='Mean A')              --possible if needed\n",
    "    plt.axhline(y=median, color='green', label='Median (Hour '+str(x)+')')\n",
    "\n",
    "    tdf=dfD.loc[dfD['hour']==y]\n",
    "    sns.scatterplot(data=tdf, x='day', y='cost')\n",
    "    median=int(medianDict[str(y)])\n",
    "    mean=int(meanDict[str(y)])\n",
    "#     plt.axhline(y=mean, color='green', label='Mean B')             --possible if needed\n",
    "    plt.axhline(y=median, color='purple', label='Median (Hour '+str(y)+')')\n",
    "    plt.legend()\n",
    "    plt.show()\n",
    "y=int(input('What hour would you like to compare data from hour '+str(x)+' to?\\n'))\n",
    "compare(x,y)"
   ]
  }
 ],
 "metadata": {
  "kernelspec": {
   "display_name": "Python 3",
   "language": "python",
   "name": "python3"
  },
  "language_info": {
   "codemirror_mode": {
    "name": "ipython",
    "version": 3
   },
   "file_extension": ".py",
   "mimetype": "text/x-python",
   "name": "python",
   "nbconvert_exporter": "python",
   "pygments_lexer": "ipython3",
   "version": "3.9.4"
  }
 },
 "nbformat": 4,
 "nbformat_minor": 5
}
